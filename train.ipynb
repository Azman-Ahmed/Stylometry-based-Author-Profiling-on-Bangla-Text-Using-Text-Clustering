{
 "cells": [
  {
   "cell_type": "code",
   "execution_count": 2,
   "metadata": {},
   "outputs": [
    {
     "name": "stdout",
     "output_type": "stream",
     "text": [
      "Python 3.10.14\n"
     ]
    }
   ],
   "source": [
    "!python --version"
   ]
  },
  {
   "cell_type": "code",
   "execution_count": 8,
   "metadata": {},
   "outputs": [],
   "source": [
    "import polars as pl\n",
    "import numpy as np\n",
    "import os\n",
    "import matplotlib.pyplot as plt\n",
    "import matplotlib.colors as mcolors\n",
    "\n",
    "import sklearn\n",
    "from sklearn.decomposition import PCA, TruncatedSVD\n",
    "from sklearn.manifold import TSNE\n",
    "from sklearn.cluster import KMeans, DBSCAN\n",
    "from sklearn.feature_extraction.text import TfidfVectorizer\n",
    "from sklearn.model_selection import train_test_split\n",
    "from sklearn.preprocessing import LabelEncoder\n",
    "from sklearn.neighbors import KNeighborsClassifier\n",
    "from sklearn.metrics import silhouette_score, adjusted_rand_score, normalized_mutual_info_score, adjusted_mutual_info_score, \\\n",
    "                         fowlkes_mallows_score, homogeneity_completeness_v_measure, davies_bouldin_score, calinski_harabasz_score, \\\n",
    "                         mean_squared_error, confusion_matrix, accuracy_score, precision_score, recall_score, f1_score\n",
    "\n",
    "import re\n",
    "from string import punctuation\n",
    "\n",
    "from openTSNE import TSNE"
   ]
  },
  {
   "cell_type": "code",
   "execution_count": 23,
   "metadata": {},
   "outputs": [],
   "source": [
    "df = pl.read_csv(\"BAAD16_1500w.csv\")"
   ]
  },
  {
   "cell_type": "code",
   "execution_count": 24,
   "metadata": {},
   "outputs": [
    {
     "data": {
      "text/html": [
       "<div><style>\n",
       ".dataframe > thead > tr,\n",
       ".dataframe > tbody > tr {\n",
       "  text-align: right;\n",
       "  white-space: pre-wrap;\n",
       "}\n",
       "</style>\n",
       "<small>shape: (5, 2)</small><table border=\"1\" class=\"dataframe\"><thead><tr><th>label</th><th>text</th></tr><tr><td>str</td><td>str</td></tr></thead><tbody><tr><td>&quot;shunil_gongopaddhay&quot;</td><td>&quot;থেকে কত দূরে চলে এসেছে ভরত। সে…</td></tr><tr><td>&quot;humayun_ahmed&quot;</td><td>&quot;এতে ভয় কমে যায়। বল একটা গল্প।’…</td></tr><tr><td>&quot;shomresh&quot;</td><td>&quot;হবে। ওই দেখুন ওর এক চোখ কানা। …</td></tr><tr><td>&quot;humayun_ahmed&quot;</td><td>&quot;হত! আবার চাদর মুড়ি দিয়ে নিজেকে…</td></tr><tr><td>&quot;shordindu&quot;</td><td>&quot;হইয়া উঠিল। মনে যথেষ্ট কৌতূহল, …</td></tr></tbody></table></div>"
      ],
      "text/plain": [
       "shape: (5, 2)\n",
       "┌─────────────────────┬────────────────────────────────┐\n",
       "│ label               ┆ text                           │\n",
       "│ ---                 ┆ ---                            │\n",
       "│ str                 ┆ str                            │\n",
       "╞═════════════════════╪════════════════════════════════╡\n",
       "│ shunil_gongopaddhay ┆ থেকে কত দূরে চলে এসেছে ভরত। সে… │\n",
       "│ humayun_ahmed       ┆ এতে ভয় কমে যায়। বল একটা গল্প।’…   │\n",
       "│ shomresh            ┆ হবে। ওই দেখুন ওর এক চোখ কানা। …   │\n",
       "│ humayun_ahmed       ┆ হত! আবার চাদর মুড়ি দিয়ে নিজেকে…   │\n",
       "│ shordindu           ┆ হইয়া উঠিল। মনে যথেষ্ট কৌতূহল, …   │\n",
       "└─────────────────────┴────────────────────────────────┘"
      ]
     },
     "execution_count": 24,
     "metadata": {},
     "output_type": "execute_result"
    }
   ],
   "source": [
    "df.head()"
   ]
  },
  {
   "cell_type": "code",
   "execution_count": 9,
   "metadata": {},
   "outputs": [],
   "source": [
    "color_palette = [\n",
    "  \"#0000FF\", \"#00C850\", \"#00FF00\", \"#00FFFF\", \"#4169E1\", \"#87CEFA\", \"#ADFF2F\", \"#B600C6\",\n",
    "  \"#C62E2E\", \"#F863FF\", \"#FD0101\", \"#FF007D\", \"#FF4BCD\", \"#FF7F50\", \"#FFA500\", \"#FFFF00\"\n",
    "]\n",
    "custom_cmap = mcolors.ListedColormap(color_palette)"
   ]
  },
  {
   "cell_type": "code",
   "execution_count": 26,
   "metadata": {},
   "outputs": [],
   "source": [
    "def tokenize_bangla(text):\n",
    "  r = re.compile(r'([\\s\\।{}]+)'.format(re.escape('!\"#$%&\\'()*+,’।-./:;<=>?@[\\\\]^_`{|}~')))\n",
    "  list_ = r.split(text)\n",
    "  list_ = [item.replace(\" \", \"\").replace(\"\\n\", \"\").replace(\"\\t\", \"\") if not item.isspace() else item for item in list_ if item.strip()]\n",
    "  return list_"
   ]
  },
  {
   "cell_type": "code",
   "execution_count": 31,
   "metadata": {},
   "outputs": [],
   "source": [
    "df = df.with_columns([ \n",
    "    pl.col(\"text\").map_elements(tokenize_bangla, return_dtype=list[str]).map_elements(lambda x: ' '.join(x), return_dtype=str).alias(\"final_text\")\n",
    "])"
   ]
  },
  {
   "cell_type": "code",
   "execution_count": 32,
   "metadata": {},
   "outputs": [
    {
     "data": {
      "text/html": [
       "<div><style>\n",
       ".dataframe > thead > tr,\n",
       ".dataframe > tbody > tr {\n",
       "  text-align: right;\n",
       "  white-space: pre-wrap;\n",
       "}\n",
       "</style>\n",
       "<small>shape: (5, 3)</small><table border=\"1\" class=\"dataframe\"><thead><tr><th>label</th><th>text</th><th>final_text</th></tr><tr><td>str</td><td>str</td><td>str</td></tr></thead><tbody><tr><td>&quot;shunil_gongopaddhay&quot;</td><td>&quot;থেকে কত দূরে চলে এসেছে ভরত। সে…</td><td>&quot;থেকে কত দূরে চলে এসেছে ভরত । স…</td></tr><tr><td>&quot;humayun_ahmed&quot;</td><td>&quot;এতে ভয় কমে যায়। বল একটা গল্প।’…</td><td>&quot;এতে ভয় কমে যায় । বল একটা গল্প …</td></tr><tr><td>&quot;shomresh&quot;</td><td>&quot;হবে। ওই দেখুন ওর এক চোখ কানা। …</td><td>&quot;হবে । ওই দেখুন ওর এক চোখ কানা …</td></tr><tr><td>&quot;humayun_ahmed&quot;</td><td>&quot;হত! আবার চাদর মুড়ি দিয়ে নিজেকে…</td><td>&quot;হত ! আবার চাদর মুড়ি দিয়ে নিজেক…</td></tr><tr><td>&quot;shordindu&quot;</td><td>&quot;হইয়া উঠিল। মনে যথেষ্ট কৌতূহল, …</td><td>&quot;হইয়া উঠিল । মনে যথেষ্ট কৌতূহল …</td></tr></tbody></table></div>"
      ],
      "text/plain": [
       "shape: (5, 3)\n",
       "┌─────────────────────┬────────────────────────────────┬────────────────────────────────┐\n",
       "│ label               ┆ text                           ┆ final_text                     │\n",
       "│ ---                 ┆ ---                            ┆ ---                            │\n",
       "│ str                 ┆ str                            ┆ str                            │\n",
       "╞═════════════════════╪════════════════════════════════╪════════════════════════════════╡\n",
       "│ shunil_gongopaddhay ┆ থেকে কত দূরে চলে এসেছে ভরত। সে… ┆ থেকে কত দূরে চলে এসেছে ভরত । স… │\n",
       "│ humayun_ahmed       ┆ এতে ভয় কমে যায়। বল একটা গল্প।’…   ┆ এতে ভয় কমে যায় । বল একটা গল্প …   │\n",
       "│ shomresh            ┆ হবে। ওই দেখুন ওর এক চোখ কানা। …   ┆ হবে । ওই দেখুন ওর এক চোখ কানা …   │\n",
       "│ humayun_ahmed       ┆ হত! আবার চাদর মুড়ি দিয়ে নিজেকে…   ┆ হত ! আবার চাদর মুড়ি দিয়ে নিজেক…   │\n",
       "│ shordindu           ┆ হইয়া উঠিল। মনে যথেষ্ট কৌতূহল, …   ┆ হইয়া উঠিল । মনে যথেষ্ট কৌতূহল …   │\n",
       "└─────────────────────┴────────────────────────────────┴────────────────────────────────┘"
      ]
     },
     "execution_count": 32,
     "metadata": {},
     "output_type": "execute_result"
    }
   ],
   "source": [
    "df.head()"
   ]
  },
  {
   "cell_type": "code",
   "execution_count": 34,
   "metadata": {},
   "outputs": [
    {
     "name": "stdout",
     "output_type": "stream",
     "text": [
      "(8987, 1100)\n"
     ]
    }
   ],
   "source": [
    "vectorizer = TfidfVectorizer(max_features=1100, ngram_range=(1, 2), max_df=0.85, sublinear_tf=True)\n",
    "X = vectorizer.fit_transform(df['final_text'])\n",
    "print(X.toarray().shape)"
   ]
  },
  {
   "cell_type": "code",
   "execution_count": 35,
   "metadata": {},
   "outputs": [
    {
     "name": "stdout",
     "output_type": "stream",
     "text": [
      "(8987, 100)\n"
     ]
    }
   ],
   "source": [
    "pca = PCA(n_components=100)\n",
    "X_pca_for_tsne = pca.fit_transform(X.toarray())\n",
    "print(X_pca_for_tsne.shape)"
   ]
  },
  {
   "cell_type": "code",
   "execution_count": null,
   "metadata": {},
   "outputs": [],
   "source": [
    "tsne = TSNE(\n",
    "    n_components=3,\n",
    "    perplexity=20,\n",
    "    metric=\"euclidean\",\n",
    "    n_jobs=-1,\n",
    "    random_state=2024,\n",
    "    verbose=True,\n",
    ")\n",
    "X_tsne_embedding = tsne.fit(X_pca_for_tsne)\n",
    "print(X_tsne_embedding.shape)"
   ]
  },
  {
   "cell_type": "code",
   "execution_count": null,
   "metadata": {},
   "outputs": [],
   "source": [
    "X_tsne_embedding.transform()"
   ]
  },
  {
   "cell_type": "code",
   "execution_count": null,
   "metadata": {},
   "outputs": [],
   "source": []
  }
 ],
 "metadata": {
  "kernelspec": {
   "display_name": "styloserve",
   "language": "python",
   "name": "python3"
  },
  "language_info": {
   "codemirror_mode": {
    "name": "ipython",
    "version": 3
   },
   "file_extension": ".py",
   "mimetype": "text/x-python",
   "name": "python",
   "nbconvert_exporter": "python",
   "pygments_lexer": "ipython3",
   "version": "3.10.14"
  }
 },
 "nbformat": 4,
 "nbformat_minor": 2
}
